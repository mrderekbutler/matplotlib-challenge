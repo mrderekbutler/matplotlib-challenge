{
 "cells": [
  {
   "cell_type": "markdown",
   "metadata": {},
   "source": [
    "# Pyber Ride Sharing"
   ]
  },
  {
   "cell_type": "markdown",
   "metadata": {},
   "source": [
    "Market Differentiation Analysis"
   ]
  },
  {
   "cell_type": "markdown",
   "metadata": {},
   "source": [
    "The bubble chart indicates that there are more drivers and riders in urban areas and the average fare price is higher in rural and suburban areas.\n",
    "\n",
    "Sixty seven percent of the total revenue is derived from the urban areas which means that there are more people living in urban areas using public transportation and shorter routes. \n",
    "\n",
    "The suburban area makes up 30 percent of the sales and riders. The average fare is much higher than urban fare sales. \n",
    "\n",
    "There can be a correlation between the demand for pyber services within urban areas. "
   ]
  },
  {
   "cell_type": "code",
   "execution_count": 1,
   "metadata": {},
   "outputs": [],
   "source": [
    "# Dependencies\n",
    "%matplotlib inline\n",
    "import matplotlib.pyplot as plt\n",
    "import numpy as np\n",
    "import pandas as pd"
   ]
  },
  {
   "cell_type": "code",
   "execution_count": 2,
   "metadata": {},
   "outputs": [],
   "source": [
    "# Read the City and Ride Data\n",
    "city_df = pd.read_csv(\"data/city_data.csv\")\n",
    "ride_df = pd.read_csv(\"data/ride_data.csv\")"
   ]
  },
  {
   "cell_type": "code",
   "execution_count": 3,
   "metadata": {},
   "outputs": [
    {
     "data": {
      "text/html": [
       "<div>\n",
       "<style scoped>\n",
       "    .dataframe tbody tr th:only-of-type {\n",
       "        vertical-align: middle;\n",
       "    }\n",
       "\n",
       "    .dataframe tbody tr th {\n",
       "        vertical-align: top;\n",
       "    }\n",
       "\n",
       "    .dataframe thead th {\n",
       "        text-align: right;\n",
       "    }\n",
       "</style>\n",
       "<table border=\"1\" class=\"dataframe\">\n",
       "  <thead>\n",
       "    <tr style=\"text-align: right;\">\n",
       "      <th></th>\n",
       "      <th>city</th>\n",
       "      <th>driver_count</th>\n",
       "      <th>type</th>\n",
       "    </tr>\n",
       "  </thead>\n",
       "  <tbody>\n",
       "    <tr>\n",
       "      <th>0</th>\n",
       "      <td>Richardfort</td>\n",
       "      <td>38</td>\n",
       "      <td>Urban</td>\n",
       "    </tr>\n",
       "    <tr>\n",
       "      <th>1</th>\n",
       "      <td>Williamsstad</td>\n",
       "      <td>59</td>\n",
       "      <td>Urban</td>\n",
       "    </tr>\n",
       "    <tr>\n",
       "      <th>2</th>\n",
       "      <td>Port Angela</td>\n",
       "      <td>67</td>\n",
       "      <td>Urban</td>\n",
       "    </tr>\n",
       "    <tr>\n",
       "      <th>3</th>\n",
       "      <td>Rodneyfort</td>\n",
       "      <td>34</td>\n",
       "      <td>Urban</td>\n",
       "    </tr>\n",
       "    <tr>\n",
       "      <th>4</th>\n",
       "      <td>West Robert</td>\n",
       "      <td>39</td>\n",
       "      <td>Urban</td>\n",
       "    </tr>\n",
       "  </tbody>\n",
       "</table>\n",
       "</div>"
      ],
      "text/plain": [
       "           city  driver_count   type\n",
       "0   Richardfort            38  Urban\n",
       "1  Williamsstad            59  Urban\n",
       "2   Port Angela            67  Urban\n",
       "3    Rodneyfort            34  Urban\n",
       "4   West Robert            39  Urban"
      ]
     },
     "execution_count": 3,
     "metadata": {},
     "output_type": "execute_result"
    }
   ],
   "source": [
    "# Display the city data table for preview\n",
    "city_df.head()"
   ]
  },
  {
   "cell_type": "code",
   "execution_count": 13,
   "metadata": {},
   "outputs": [
    {
     "data": {
      "text/html": [
       "<div>\n",
       "<style scoped>\n",
       "    .dataframe tbody tr th:only-of-type {\n",
       "        vertical-align: middle;\n",
       "    }\n",
       "\n",
       "    .dataframe tbody tr th {\n",
       "        vertical-align: top;\n",
       "    }\n",
       "\n",
       "    .dataframe thead th {\n",
       "        text-align: right;\n",
       "    }\n",
       "</style>\n",
       "<table border=\"1\" class=\"dataframe\">\n",
       "  <thead>\n",
       "    <tr style=\"text-align: right;\">\n",
       "      <th></th>\n",
       "      <th>city</th>\n",
       "      <th>date</th>\n",
       "      <th>fare</th>\n",
       "      <th>ride_id</th>\n",
       "    </tr>\n",
       "  </thead>\n",
       "  <tbody>\n",
       "    <tr>\n",
       "      <th>0</th>\n",
       "      <td>Lake Jonathanshire</td>\n",
       "      <td>2018-01-14 10:14:22</td>\n",
       "      <td>13.83</td>\n",
       "      <td>5739410935873</td>\n",
       "    </tr>\n",
       "    <tr>\n",
       "      <th>1</th>\n",
       "      <td>South Michelleport</td>\n",
       "      <td>2018-03-04 18:24:09</td>\n",
       "      <td>30.24</td>\n",
       "      <td>2343912425577</td>\n",
       "    </tr>\n",
       "    <tr>\n",
       "      <th>2</th>\n",
       "      <td>Port Samanthamouth</td>\n",
       "      <td>2018-02-24 04:29:00</td>\n",
       "      <td>33.44</td>\n",
       "      <td>2005065760003</td>\n",
       "    </tr>\n",
       "    <tr>\n",
       "      <th>3</th>\n",
       "      <td>Rodneyfort</td>\n",
       "      <td>2018-02-10 23:22:03</td>\n",
       "      <td>23.44</td>\n",
       "      <td>5149245426178</td>\n",
       "    </tr>\n",
       "    <tr>\n",
       "      <th>4</th>\n",
       "      <td>South Jack</td>\n",
       "      <td>2018-03-06 04:28:35</td>\n",
       "      <td>34.58</td>\n",
       "      <td>3908451377344</td>\n",
       "    </tr>\n",
       "  </tbody>\n",
       "</table>\n",
       "</div>"
      ],
      "text/plain": [
       "                 city                 date   fare        ride_id\n",
       "0  Lake Jonathanshire  2018-01-14 10:14:22  13.83  5739410935873\n",
       "1  South Michelleport  2018-03-04 18:24:09  30.24  2343912425577\n",
       "2  Port Samanthamouth  2018-02-24 04:29:00  33.44  2005065760003\n",
       "3          Rodneyfort  2018-02-10 23:22:03  23.44  5149245426178\n",
       "4          South Jack  2018-03-06 04:28:35  34.58  3908451377344"
      ]
     },
     "execution_count": 13,
     "metadata": {},
     "output_type": "execute_result"
    }
   ],
   "source": [
    "# Display the rideer data table for preview\n",
    "ride_df.head()"
   ]
  },
  {
   "cell_type": "code",
   "execution_count": 14,
   "metadata": {},
   "outputs": [
    {
     "data": {
      "text/html": [
       "<div>\n",
       "<style scoped>\n",
       "    .dataframe tbody tr th:only-of-type {\n",
       "        vertical-align: middle;\n",
       "    }\n",
       "\n",
       "    .dataframe tbody tr th {\n",
       "        vertical-align: top;\n",
       "    }\n",
       "\n",
       "    .dataframe thead th {\n",
       "        text-align: right;\n",
       "    }\n",
       "</style>\n",
       "<table border=\"1\" class=\"dataframe\">\n",
       "  <thead>\n",
       "    <tr style=\"text-align: right;\">\n",
       "      <th></th>\n",
       "      <th>city</th>\n",
       "      <th>date</th>\n",
       "      <th>fare</th>\n",
       "      <th>ride_id</th>\n",
       "      <th>driver_count</th>\n",
       "      <th>type</th>\n",
       "    </tr>\n",
       "  </thead>\n",
       "  <tbody>\n",
       "    <tr>\n",
       "      <th>0</th>\n",
       "      <td>Lake Jonathanshire</td>\n",
       "      <td>2018-01-14 10:14:22</td>\n",
       "      <td>13.83</td>\n",
       "      <td>5739410935873</td>\n",
       "      <td>5</td>\n",
       "      <td>Urban</td>\n",
       "    </tr>\n",
       "    <tr>\n",
       "      <th>1</th>\n",
       "      <td>Lake Jonathanshire</td>\n",
       "      <td>2018-04-07 20:51:11</td>\n",
       "      <td>31.25</td>\n",
       "      <td>4441251834598</td>\n",
       "      <td>5</td>\n",
       "      <td>Urban</td>\n",
       "    </tr>\n",
       "    <tr>\n",
       "      <th>2</th>\n",
       "      <td>Lake Jonathanshire</td>\n",
       "      <td>2018-03-09 23:45:55</td>\n",
       "      <td>19.89</td>\n",
       "      <td>2389495660448</td>\n",
       "      <td>5</td>\n",
       "      <td>Urban</td>\n",
       "    </tr>\n",
       "    <tr>\n",
       "      <th>3</th>\n",
       "      <td>Lake Jonathanshire</td>\n",
       "      <td>2018-04-07 18:09:21</td>\n",
       "      <td>24.28</td>\n",
       "      <td>7796805191168</td>\n",
       "      <td>5</td>\n",
       "      <td>Urban</td>\n",
       "    </tr>\n",
       "    <tr>\n",
       "      <th>4</th>\n",
       "      <td>Lake Jonathanshire</td>\n",
       "      <td>2018-01-02 14:14:50</td>\n",
       "      <td>13.89</td>\n",
       "      <td>424254840012</td>\n",
       "      <td>5</td>\n",
       "      <td>Urban</td>\n",
       "    </tr>\n",
       "  </tbody>\n",
       "</table>\n",
       "</div>"
      ],
      "text/plain": [
       "                 city                 date   fare        ride_id  \\\n",
       "0  Lake Jonathanshire  2018-01-14 10:14:22  13.83  5739410935873   \n",
       "1  Lake Jonathanshire  2018-04-07 20:51:11  31.25  4441251834598   \n",
       "2  Lake Jonathanshire  2018-03-09 23:45:55  19.89  2389495660448   \n",
       "3  Lake Jonathanshire  2018-04-07 18:09:21  24.28  7796805191168   \n",
       "4  Lake Jonathanshire  2018-01-02 14:14:50  13.89   424254840012   \n",
       "\n",
       "   driver_count   type  \n",
       "0             5  Urban  \n",
       "1             5  Urban  \n",
       "2             5  Urban  \n",
       "3             5  Urban  \n",
       "4             5  Urban  "
      ]
     },
     "execution_count": 14,
     "metadata": {},
     "output_type": "execute_result"
    }
   ],
   "source": [
    "# Combine the data into a single dataset\n",
    "pyber_df = pd.merge(ride_df, city_df, on=\"city\")\n",
    "\n",
    "# Display the data table for preview\n",
    "pyber_df.head()"
   ]
  },
  {
   "cell_type": "markdown",
   "metadata": {},
   "source": [
    "## Bubble Plot of Ride Sharing Data"
   ]
  },
  {
   "cell_type": "code",
   "execution_count": 15,
   "metadata": {},
   "outputs": [],
   "source": [
    "# group by city and type   \n",
    "group_city = pyber_df.groupby([\"city\",\"type\"])\n",
    "\n",
    "# calculate average fare per city, total number of rides per city \n",
    "# total sales per city and total number of drivers per city\n",
    "tot_fare_sales = group_city[\"fare\"].sum()\n",
    "avg_fare_sales = group_city[\"fare\"].mean()\n",
    "tot_rides = group_city[\"ride_id\"].count()\n",
    "tot_drivers = group_city[\"driver_count\"].sum()"
   ]
  },
  {
   "cell_type": "code",
   "execution_count": 16,
   "metadata": {},
   "outputs": [
    {
     "data": {
      "text/html": [
       "<div>\n",
       "<style scoped>\n",
       "    .dataframe tbody tr th:only-of-type {\n",
       "        vertical-align: middle;\n",
       "    }\n",
       "\n",
       "    .dataframe tbody tr th {\n",
       "        vertical-align: top;\n",
       "    }\n",
       "\n",
       "    .dataframe thead th {\n",
       "        text-align: right;\n",
       "    }\n",
       "</style>\n",
       "<table border=\"1\" class=\"dataframe\">\n",
       "  <thead>\n",
       "    <tr style=\"text-align: right;\">\n",
       "      <th></th>\n",
       "      <th>city</th>\n",
       "      <th>type</th>\n",
       "      <th>Chart_Colors</th>\n",
       "      <th>Total_Fare_Sales</th>\n",
       "      <th>Avg_Fare</th>\n",
       "      <th>Total_Rides</th>\n",
       "      <th>Total_Drivers</th>\n",
       "    </tr>\n",
       "  </thead>\n",
       "  <tbody>\n",
       "    <tr>\n",
       "      <th>0</th>\n",
       "      <td>Amandaburgh</td>\n",
       "      <td>Urban</td>\n",
       "      <td></td>\n",
       "      <td>443.55</td>\n",
       "      <td>24.641667</td>\n",
       "      <td>18</td>\n",
       "      <td>216</td>\n",
       "    </tr>\n",
       "    <tr>\n",
       "      <th>1</th>\n",
       "      <td>Barajasview</td>\n",
       "      <td>Urban</td>\n",
       "      <td></td>\n",
       "      <td>557.31</td>\n",
       "      <td>25.332273</td>\n",
       "      <td>22</td>\n",
       "      <td>572</td>\n",
       "    </tr>\n",
       "    <tr>\n",
       "      <th>2</th>\n",
       "      <td>Barronchester</td>\n",
       "      <td>Suburban</td>\n",
       "      <td></td>\n",
       "      <td>582.76</td>\n",
       "      <td>36.422500</td>\n",
       "      <td>16</td>\n",
       "      <td>176</td>\n",
       "    </tr>\n",
       "    <tr>\n",
       "      <th>3</th>\n",
       "      <td>Bethanyland</td>\n",
       "      <td>Suburban</td>\n",
       "      <td></td>\n",
       "      <td>593.21</td>\n",
       "      <td>32.956111</td>\n",
       "      <td>18</td>\n",
       "      <td>396</td>\n",
       "    </tr>\n",
       "    <tr>\n",
       "      <th>4</th>\n",
       "      <td>Bradshawfurt</td>\n",
       "      <td>Rural</td>\n",
       "      <td></td>\n",
       "      <td>400.64</td>\n",
       "      <td>40.064000</td>\n",
       "      <td>10</td>\n",
       "      <td>70</td>\n",
       "    </tr>\n",
       "  </tbody>\n",
       "</table>\n",
       "</div>"
      ],
      "text/plain": [
       "            city      type Chart_Colors  Total_Fare_Sales   Avg_Fare  \\\n",
       "0    Amandaburgh     Urban                         443.55  24.641667   \n",
       "1    Barajasview     Urban                         557.31  25.332273   \n",
       "2  Barronchester  Suburban                         582.76  36.422500   \n",
       "3    Bethanyland  Suburban                         593.21  32.956111   \n",
       "4   Bradshawfurt     Rural                         400.64  40.064000   \n",
       "\n",
       "   Total_Rides  Total_Drivers  \n",
       "0           18            216  \n",
       "1           22            572  \n",
       "2           16            176  \n",
       "3           18            396  \n",
       "4           10             70  "
      ]
     },
     "execution_count": 16,
     "metadata": {},
     "output_type": "execute_result"
    }
   ],
   "source": [
    "# build a new dataframe with calculated data \n",
    "group_city_df = group_city[\"ride_id\"].count().to_frame()\n",
    "group_city_df.drop('ride_id', axis=1, inplace=True)\n",
    "group_city_df[\"Chart_Colors\"] = \"\" \n",
    "group_city_df[\"Total_Fare_Sales\"] = tot_fare_sales\n",
    "group_city_df[\"Avg_Fare\"] = avg_fare_sales\n",
    "group_city_df[\"Total_Rides\"] = tot_rides\n",
    "group_city_df[\"Total_Drivers\"] = tot_drivers\n",
    "# drop the index \n",
    "group_city_df.reset_index(drop=False, inplace=True)\n",
    "group_city_df.head()"
   ]
  },
  {
   "cell_type": "code",
   "execution_count": 17,
   "metadata": {},
   "outputs": [
    {
     "data": {
      "text/html": [
       "<div>\n",
       "<style scoped>\n",
       "    .dataframe tbody tr th:only-of-type {\n",
       "        vertical-align: middle;\n",
       "    }\n",
       "\n",
       "    .dataframe tbody tr th {\n",
       "        vertical-align: top;\n",
       "    }\n",
       "\n",
       "    .dataframe thead th {\n",
       "        text-align: right;\n",
       "    }\n",
       "</style>\n",
       "<table border=\"1\" class=\"dataframe\">\n",
       "  <thead>\n",
       "    <tr style=\"text-align: right;\">\n",
       "      <th></th>\n",
       "      <th>city</th>\n",
       "      <th>type</th>\n",
       "      <th>Chart_Colors</th>\n",
       "      <th>Total_Fare_Sales</th>\n",
       "      <th>Avg_Fare</th>\n",
       "      <th>Total_Rides</th>\n",
       "      <th>Total_Drivers</th>\n",
       "    </tr>\n",
       "  </thead>\n",
       "  <tbody>\n",
       "    <tr>\n",
       "      <th>0</th>\n",
       "      <td>Amandaburgh</td>\n",
       "      <td>Urban</td>\n",
       "      <td>coral</td>\n",
       "      <td>443.55</td>\n",
       "      <td>24.641667</td>\n",
       "      <td>18</td>\n",
       "      <td>216</td>\n",
       "    </tr>\n",
       "    <tr>\n",
       "      <th>1</th>\n",
       "      <td>Barajasview</td>\n",
       "      <td>Urban</td>\n",
       "      <td>coral</td>\n",
       "      <td>557.31</td>\n",
       "      <td>25.332273</td>\n",
       "      <td>22</td>\n",
       "      <td>572</td>\n",
       "    </tr>\n",
       "    <tr>\n",
       "      <th>2</th>\n",
       "      <td>Barronchester</td>\n",
       "      <td>Suburban</td>\n",
       "      <td>lightskyblue</td>\n",
       "      <td>582.76</td>\n",
       "      <td>36.422500</td>\n",
       "      <td>16</td>\n",
       "      <td>176</td>\n",
       "    </tr>\n",
       "    <tr>\n",
       "      <th>3</th>\n",
       "      <td>Bethanyland</td>\n",
       "      <td>Suburban</td>\n",
       "      <td>lightskyblue</td>\n",
       "      <td>593.21</td>\n",
       "      <td>32.956111</td>\n",
       "      <td>18</td>\n",
       "      <td>396</td>\n",
       "    </tr>\n",
       "    <tr>\n",
       "      <th>4</th>\n",
       "      <td>Bradshawfurt</td>\n",
       "      <td>Rural</td>\n",
       "      <td>gold</td>\n",
       "      <td>400.64</td>\n",
       "      <td>40.064000</td>\n",
       "      <td>10</td>\n",
       "      <td>70</td>\n",
       "    </tr>\n",
       "  </tbody>\n",
       "</table>\n",
       "</div>"
      ],
      "text/plain": [
       "            city      type  Chart_Colors  Total_Fare_Sales   Avg_Fare  \\\n",
       "0    Amandaburgh     Urban         coral            443.55  24.641667   \n",
       "1    Barajasview     Urban         coral            557.31  25.332273   \n",
       "2  Barronchester  Suburban  lightskyblue            582.76  36.422500   \n",
       "3    Bethanyland  Suburban  lightskyblue            593.21  32.956111   \n",
       "4   Bradshawfurt     Rural          gold            400.64  40.064000   \n",
       "\n",
       "   Total_Rides  Total_Drivers  \n",
       "0           18            216  \n",
       "1           22            572  \n",
       "2           16            176  \n",
       "3           18            396  \n",
       "4           10             70  "
      ]
     },
     "execution_count": 17,
     "metadata": {},
     "output_type": "execute_result"
    }
   ],
   "source": [
    "# set the color based on the city type\n",
    "for idx, row in group_city_df.iterrows() :\n",
    "    if row['type'] == \"Urban\":\n",
    "        group_city_df.loc[idx,\"Chart_Colors\"] = \"coral\"\n",
    "    elif row['type'] == \"Suburban\":\n",
    "        group_city_df.loc[idx,\"Chart_Colors\"] = \"lightskyblue\"\n",
    "    elif row['type'] == \"Rural\":\n",
    "        group_city_df.loc[idx,\"Chart_Colors\"] = \"gold\"\n",
    "        \n",
    "group_city_df.head()"
   ]
  },
  {
   "cell_type": "code",
   "execution_count": 18,
   "metadata": {},
   "outputs": [],
   "source": [
    "# createa a dataframe for each city type\n",
    "urban_df = group_city_df.loc[group_city_df['type']== 'Urban']\n",
    "suburban_df = group_city_df.loc[group_city_df['type']== 'Suburban']\n",
    "rural_df = group_city_df.loc[group_city_df['type']== 'Rural']"
   ]
  },
  {
   "cell_type": "code",
   "execution_count": 19,
   "metadata": {},
   "outputs": [],
   "source": [
    "# createa the x and y axis for each city type        \n",
    "x_axis_urban = urban_df[\"Total_Rides\"]\n",
    "y_axis_urban = urban_df[\"Avg_Fare\"]\n",
    "x_axis_suburban = suburban_df[\"Total_Rides\"]\n",
    "y_axis_suburban = suburban_df[\"Avg_Fare\"]\n",
    "x_axis_rural = rural_df[\"Total_Rides\"]\n",
    "y_axis_rural = rural_df[\"Avg_Fare\"]"
   ]
  },
  {
   "cell_type": "code",
   "execution_count": 34,
   "metadata": {},
   "outputs": [
    {
     "data": {
      "image/png": "[encoded data removed]",
      "text/plain": [
       "<Figure size 432x288 with 1 Axes>"
      ]
     },
     "metadata": {
      "needs_background": "light"
     },
     "output_type": "display_data"
    }
   ],
   "source": [
    "# Build the scatter plots for each city types\n",
    "urban_plt = plt.scatter(x_axis_urban, y_axis_urban\n",
    "            ,s=urban_df[\"Total_Drivers\"] * .6\n",
    "            ,alpha=0.5,edgecolors=\"black\"\n",
    "            ,c=urban_df[\"Chart_Colors\"]\n",
    "            ,label=urban_df[\"type\"])\n",
    "\n",
    "suburban_plt = plt.scatter(x_axis_suburban, y_axis_suburban\n",
    "            ,s=suburban_df[\"Total_Drivers\"] * .6\n",
    "            ,alpha=0.5,edgecolors=\"black\"\n",
    "            ,c=suburban_df[\"Chart_Colors\"]\n",
    "            ,label=suburban_df[\"type\"])\n",
    "\n",
    "rural_plt = plt.scatter(x_axis_rural, y_axis_rural\n",
    "            ,s=rural_df[\"Total_Drivers\"] * .6\n",
    "            ,alpha=0.5,edgecolors=\"black\"\n",
    "            ,c=rural_df[\"Chart_Colors\"]\n",
    "            ,label=rural_df[\"type\"])\n",
    "# Incorporate the other graph properties\n",
    "plt.grid(True)\n",
    "\n",
    "# Create a title, x label, and y label for our chart\n",
    "plt.title(\"Pyber Ride Sharing (2018)\")\n",
    "plt.xlabel(\"Total Number of Rides (Per City)\")\n",
    "plt.ylabel(\"Average Fare ($)\")\n",
    "\n",
    "# Create a legend\n",
    "\n",
    "\n",
    "leg = plt.legend([\"urban\", \"Surburban\", \"Rural\"],frameon = True, title = \"City Types\")\n",
    "leg.legendHandles[0]._sizes = [30]\n",
    "leg.legendHandles[1]._sizes = [30]\n",
    "leg.legendHandles[2]._sizes = [30]\n",
    "\n",
    "# Incorporate a text label regarding circle size\n",
    "plt.text(42,35, \"Note: \" + \"\\n\" + \"Circle size correlates with driver count per city.\")\n",
    "\n",
    "# Save Figure\n",
    "plt.savefig(\"PyberBubbleplot.png\")\n",
    "\n",
    "plt.show()"
   ]
  },
  {
   "cell_type": "markdown",
   "metadata": {},
   "source": [
    "## Total Fares by City Type"
   ]
  },
  {
   "cell_type": "code",
   "execution_count": 21,
   "metadata": {},
   "outputs": [],
   "source": [
    "# Calculate total fare sales by city tppe and convet to percent  \n",
    "urban_total_fare_sales = urban_df[\"Total_Fare_Sales\"].sum()\n",
    "suburban_total_fare_sales = suburban_df[\"Total_Fare_Sales\"].sum()\n",
    "rural_total_fare_sales= rural_df[\"Total_Fare_Sales\"].sum()\n",
    "pyber_total_fare_sales = pyber_df[\"fare\"].sum()\n",
    "urban_percent_total_fare_sales =  urban_total_fare_sales /pyber_total_fare_sales * 100\n",
    "suburban_percent_total_fare_sales =  suburban_total_fare_sales /pyber_total_fare_sales * 100\n",
    "rural_percent_total_fare_sales =  rural_total_fare_sales /pyber_total_fare_sales * 100"
   ]
  },
  {
   "cell_type": "code",
   "execution_count": 22,
   "metadata": {},
   "outputs": [
    {
     "data": {
      "image/png": "[encoded data removed]",
      "text/plain": [
       "<Figure size 432x288 with 1 Axes>"
      ]
     },
     "metadata": {},
     "output_type": "display_data"
    }
   ],
   "source": [
    "# Labels for the sections of the pie chart\n",
    "pie_section_lable  = [\"Urban\", \"Suburban\", \"Rual\"]\n",
    "\n",
    "# The values of each section of the pie chart\n",
    "pie_section_percent = [urban_percent_total_fare_sales, suburban_percent_total_fare_sales, rural_percent_total_fare_sales]\n",
    "\n",
    "# The colors of each section of the pie chart\n",
    "pie_section_color = [\"lightcoral\", \"lightskyblue\", \"gold\"]\n",
    "\n",
    "# Tells matplotlib to seperate the \"Python\" section from the others\n",
    "pie_section_explode = (0.1, 0, 0)\n",
    "\n",
    "# create the pie chart\n",
    "explode = ()\n",
    "plt.pie(pie_section_percent, explode=pie_section_explode,\n",
    "        labels=pie_section_lable, colors=pie_section_color,\n",
    "        autopct=\"%1.1f%%\", shadow=True,startangle=280)\n",
    "\n",
    "#Create axes which are equal so we have a perfect circle\n",
    "plt.title('% of Total Fares by City Type')\n",
    "plt.axis(\"equal\")\n",
    "plt.axis('off')\n",
    "\n",
    "# Save an image of thechart and print the final product to the screen\n",
    "plt.savefig(\"PyberPieTotByCityType.png\")\n",
    "plt.show()\n",
    "\n",
    "\n",
    "\n"
   ]
  },
  {
   "cell_type": "markdown",
   "metadata": {},
   "source": [
    "## Total Rides by City Type"
   ]
  },
  {
   "cell_type": "code",
   "execution_count": 24,
   "metadata": {},
   "outputs": [],
   "source": [
    "# Calculate total rides by city tppe and convet to percent  \n",
    "urban_total_rides = urban_df[\"Total_Rides\"].sum()\n",
    "suburban_total_rides = suburban_df[\"Total_Rides\"].sum()\n",
    "rural_total_rides = rural_df[\"Total_Rides\"].sum()\n",
    "pyber_total_rides = pyber_df[\"ride_id\"].count()\n",
    "urban_percent_total_rides =  urban_total_rides /pyber_total_rides * 100\n",
    "suburban_percent_total_rides =  suburban_total_rides /pyber_total_rides * 100\n",
    "rural_percent_total_rides =  rural_total_rides /pyber_total_rides * 100"
   ]
  },
  {
   "cell_type": "code",
   "execution_count": 25,
   "metadata": {},
   "outputs": [
    {
     "data": {
      "image/png": "[encoded data removed]",
      "text/plain": [
       "<Figure size 432x288 with 1 Axes>"
      ]
     },
     "metadata": {},
     "output_type": "display_data"
    }
   ],
   "source": [
    "# Labels for the sections of the pie chart\n",
    "pie_section_lable  = [\"Urban\", \"Suburban\", \"Rual\"]\n",
    "\n",
    "# The values of each section of the pie chart\n",
    "pie_section_percent = [urban_percent_total_rides, suburban_percent_total_rides, rural_percent_total_rides]\n",
    "\n",
    "# The colors of each section of the pie chart\n",
    "pie_section_color = [\"lightcoral\", \"lightskyblue\", \"gold\"]\n",
    "\n",
    "# seperate the \"Python\" section from the others\n",
    "pie_section_explode = (0.1, 0, 0)\n",
    "\n",
    "# create the pie chart\n",
    "explode = ()\n",
    "plt.pie(pie_section_percent, explode=pie_section_explode,\n",
    "        labels=pie_section_lable, colors=pie_section_color,\n",
    "        autopct=\"%1.1f%%\", shadow=True,startangle=280)\n",
    "        \n",
    "\n",
    "#Create axes which are equal so we have a perfect circle\n",
    "plt.title('% of Total Riders by City Type')\n",
    "plt.axis(\"equal\")\n",
    "\n",
    "# Save an image of thechart and print the final product to the screen\n",
    "plt.savefig(\"PyberPieTotRidesByCityType.png\")\n",
    "plt.show()"
   ]
  },
  {
   "cell_type": "markdown",
   "metadata": {},
   "source": [
    "## Total Drivers by City Type"
   ]
  },
  {
   "cell_type": "code",
   "execution_count": 26,
   "metadata": {},
   "outputs": [],
   "source": [
    "# Calculate total rides by city tppe and convet to percent  \n",
    "urban_total_drivers = urban_df[\"Total_Drivers\"].sum()\n",
    "suburban_total_drivers = suburban_df[\"Total_Drivers\"].sum()\n",
    "rural_total_drivers = rural_df[\"Total_Drivers\"].sum()\n",
    "pyber_total_drivers = pyber_df[\"driver_count\"].sum()\n",
    "urban_percent_total_drivers =  urban_total_drivers /pyber_total_drivers * 100\n",
    "suburban_percent_total_drivers =  suburban_total_drivers /pyber_total_drivers * 100\n",
    "rural_percent_total_drivers =  rural_total_drivers /pyber_total_drivers * 100"
   ]
  },
  {
   "cell_type": "code",
   "execution_count": 35,
   "metadata": {},
   "outputs": [
    {
     "data": {
      "image/png": "[encoded data removed]",
      "text/plain": [
       "<Figure size 432x288 with 1 Axes>"
      ]
     },
     "metadata": {},
     "output_type": "display_data"
    }
   ],
   "source": [
    "# Labels for the sections of the pie chart\n",
    "pie_section_lable  = [\"Urban\", \"Suburban\", \"Rual\"]\n",
    "\n",
    "# The values of each section of the pie chart\n",
    "pie_section_percent = [urban_percent_total_drivers, suburban_percent_total_drivers, rural_percent_total_drivers]\n",
    "\n",
    "# The colors of each section of the pie chart\n",
    "pie_section_color = [\"lightcoral\", \"lightskyblue\", \"gold\"]\n",
    "\n",
    "# seperate the \"Python\" section from the others\n",
    "pie_section_explode = (0.1, 0, 0)\n",
    "\n",
    "# create the pie chart\n",
    "explode = ()\n",
    "plt.pie(pie_section_percent, explode=pie_section_explode,\n",
    "        labels=pie_section_lable, colors=pie_section_color,\n",
    "        autopct=\"%1.1f%%\", shadow=True,startangle=280)\n",
    "       \n",
    "\n",
    "#Create axes which are equal so we have a perfect circle\n",
    "plt.title('% of Total Drivers by City Type')\n",
    "plt.axis(\"equal\")\n",
    "\n",
    "# Save an image of thechart and print the final product to the screen\n",
    "plt.savefig(\"PyberPieTotDriverByCityType.png\")\n",
    "plt.show()"
   ]
  },
  {
   "cell_type": "code",
   "execution_count": null,
   "metadata": {},
   "outputs": [],
   "source": []
  }
 ],
 "metadata": {
  "anaconda-cloud": {},
  "kernelspec": {
   "display_name": "Python 3",
   "language": "python",
   "name": "python3"
  },
  "language_info": {
   "codemirror_mode": {
    "name": "ipython",
    "version": 3
   },
   "file_extension": ".py",
   "mimetype": "text/x-python",
   "name": "python",
   "nbconvert_exporter": "python",
   "pygments_lexer": "ipython3",
   "version": "3.7.2"
  }
 },
 "nbformat": 4,
 "nbformat_minor": 2
}
